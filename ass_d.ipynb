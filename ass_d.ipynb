{
  "nbformat": 4,
  "nbformat_minor": 0,
  "metadata": {
    "colab": {
      "provenance": []
    },
    "kernelspec": {
      "name": "python3",
      "display_name": "Python 3"
    },
    "language_info": {
      "name": "python"
    }
  },
  "cells": [
    {
      "cell_type": "code",
      "source": [
        "!pip install telethon\n"
      ],
      "metadata": {
        "colab": {
          "base_uri": "https://localhost:8080/"
        },
        "id": "7K4qMZQYAbPj",
        "outputId": "840fe550-9400-45ba-b646-dc2b041fa46a"
      },
      "execution_count": 5,
      "outputs": [
        {
          "output_type": "stream",
          "name": "stdout",
          "text": [
            "Requirement already satisfied: telethon in /usr/local/lib/python3.11/dist-packages (1.40.0)\n",
            "Requirement already satisfied: pyaes in /usr/local/lib/python3.11/dist-packages (from telethon) (1.6.1)\n",
            "Requirement already satisfied: rsa in /usr/local/lib/python3.11/dist-packages (from telethon) (4.9.1)\n",
            "Requirement already satisfied: pyasn1>=0.1.3 in /usr/local/lib/python3.11/dist-packages (from rsa->telethon) (0.6.1)\n"
          ]
        }
      ]
    },
    {
      "cell_type": "code",
      "source": [
        "from telethon import TelegramClient\n",
        "\n",
        "API_ID = 21525013\n",
        "API_HASH = '78453c85788dea6556894c35ad956d02'\n",
        "SESSION_NAME = 'projectt'"
      ],
      "metadata": {
        "id": "G1shCal6CdQX"
      },
      "execution_count": 6,
      "outputs": []
    },
    {
      "cell_type": "code",
      "source": [
        "async def main():\n",
        "    client = TelegramClient(SESSION_NAME, API_ID, API_HASH)\n",
        "    await client.start(phone='+917901669777')\n",
        "    print(\"[✓] Session created successfully.\")\n",
        "    await client.disconnect()"
      ],
      "metadata": {
        "id": "z993dEaOCf1n"
      },
      "execution_count": 7,
      "outputs": []
    },
    {
      "cell_type": "code",
      "source": [
        "await main()\n"
      ],
      "metadata": {
        "colab": {
          "base_uri": "https://localhost:8080/"
        },
        "id": "3QLAnfL3A8F5",
        "outputId": "61f729ea-22f4-42f7-eb99-828b2d31081f"
      },
      "execution_count": 8,
      "outputs": [
        {
          "output_type": "stream",
          "name": "stdout",
          "text": [
            "[✓] Session created successfully.\n"
          ]
        }
      ]
    },
    {
      "cell_type": "code",
      "source": [
        "import asyncio\n",
        "import re\n",
        "import json\n",
        "import os\n",
        "from datetime import datetime, timezone\n",
        "from telethon import TelegramClient\n",
        "from telethon.tl.types import Message\n",
        "from telethon.errors import FloodWaitError, SessionPasswordNeededError\n",
        "\n",
        "\n",
        "API_ID = 21525013\n",
        "API_HASH = '78453c85788dea6556894c35ad956d02'\n",
        "SESSION_FILE = '/content/projectt.session'\n",
        "\n",
        "\n",
        "CHANNEL_USERNAME = 'toronionlinks'\n",
        "ONION_REGEX = r'https?://[a-z2-7]{16,56}\\.onion\\b'\n",
        "OUTPUT_FILE = 'onion_links.json'\n",
        "LAST_MSG_FILE = 'last_message_id.txt'\n"
      ],
      "metadata": {
        "id": "r8gHgjYqCnuN"
      },
      "execution_count": 9,
      "outputs": []
    },
    {
      "cell_type": "code",
      "source": [
        "\n",
        "async def extract_onion_links():\n",
        "    client = TelegramClient(SESSION_FILE, API_ID, API_HASH)\n",
        "\n",
        "    print(\"Connecting to Telegram \")\n",
        "    await client.connect()\n",
        "\n",
        "\n",
        "\n",
        "    print(\" Connected successfully to Telegram.\")\n",
        "\n",
        "\n",
        "    last_id = 0\n",
        "    if os.path.exists(LAST_MSG_FILE):\n",
        "        with open(LAST_MSG_FILE, 'r') as f:\n",
        "            try:\n",
        "                last_id = int(f.read().strip())\n",
        "            except:\n",
        "                pass\n",
        "\n",
        "    print(f\"Scanning messages in @{CHANNEL_USERNAME} after ID: {last_id}\")\n",
        "\n",
        "    async for message in client.iter_messages(CHANNEL_USERNAME, min_id=last_id):\n",
        "        if isinstance(message, Message) and message.message:\n",
        "            found_links = re.findall(ONION_REGEX, message.message)\n",
        "            if found_links:\n",
        "                for url in found_links:\n",
        "                    result = {\n",
        "                        \"source\": \"telegram\",\n",
        "                        \"url\": url,\n",
        "                        \"discovered_at\": datetime.now(timezone.utc).isoformat(),\n",
        "                        \"context\": f\"Found in Telegram channel @{CHANNEL_USERNAME}\",\n",
        "                        \"status\": \"pending\"\n",
        "                    }\n",
        "                    print(f\"Found .onion link: {url}\")\n",
        "                    with open(OUTPUT_FILE, 'a', encoding='utf-8') as f:\n",
        "                        json.dump(result, f)\n",
        "                        f.write('\\n')\n",
        "\n",
        "            with open(LAST_MSG_FILE, 'w') as f:\n",
        "                f.write(str(message.id))\n",
        "\n",
        "    await client.disconnect()\n",
        "    print(\"Finished scanning and disconnected.\")\n",
        "\n",
        "\n",
        "await extract_onion_links()\n"
      ],
      "metadata": {
        "colab": {
          "base_uri": "https://localhost:8080/"
        },
        "id": "nT1_3om6AcqI",
        "outputId": "03fffe3d-f870-4ad8-d66a-1d36131a75d6"
      },
      "execution_count": 11,
      "outputs": [
        {
          "output_type": "stream",
          "name": "stdout",
          "text": [
            "Connecting to Telegram \n",
            " Connected successfully to Telegram.\n",
            "Scanning messages in @toronionlinks after ID: 16\n",
            "Found .onion link: http://immortal3u4qce76cxfa4uaqdb7riyrokqarrypdv7cyukedw3wxwiad.onion\n",
            "Found .onion link: http://torlinksge6enmcyyuxjpjkoouw4oorgdgeo7ftnq3zodj7g2zxi3kyd.onion\n",
            "Found .onion link: http://ieeppzy7cz254nz2iz7omykshnlap5ktjq3r7ujfpxagygaobpxfdbqd.onion\n",
            "Found .onion link: https://dwnewsgngmhlplxy6o2twtfgjnrnjxbegbwqx6wnotdhkzt562tszfid.onion\n",
            "Found .onion link: http://flibustaongezhld6dibs2dps6vm4nvqg2kp7vgowbu76tzopgnhazqd.onion\n",
            "Found .onion link: http://piratebayo3klnzokct3wt5yyxb2vpebbuyjl7m623iaxmqhsd52coid.onion\n",
            "Found .onion link: http://nnmclub2vvjqzjne6q4rrozkkkdmlvnrcsyes2bbkm7e5ut2aproy4id.onion\n",
            "Found .onion link: http://godnotabaggfxs2bxhoeeai2ntolycxrm5ycva2kfrotxwz35r2o4wqd.onion\n",
            "Finished scanning and disconnected.\n"
          ]
        }
      ]
    },
    {
      "cell_type": "code",
      "source": [],
      "metadata": {
        "id": "mcJudbTnEdic"
      },
      "execution_count": null,
      "outputs": []
    }
  ]
}